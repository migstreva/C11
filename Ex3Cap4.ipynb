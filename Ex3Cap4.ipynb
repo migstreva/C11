{
  "nbformat": 4,
  "nbformat_minor": 0,
  "metadata": {
    "colab": {
      "provenance": []
    },
    "kernelspec": {
      "name": "python3",
      "display_name": "Python 3"
    },
    "language_info": {
      "name": "python"
    }
  },
  "cells": [
    {
      "cell_type": "code",
      "source": [
        "import numpy as np"
      ],
      "metadata": {
        "id": "0mflhg4bRWFR"
      },
      "execution_count": null,
      "outputs": []
    },
    {
      "cell_type": "code",
      "execution_count": null,
      "metadata": {
        "id": "cYfUpd-zgwvb"
      },
      "outputs": [],
      "source": [
        "ds = np.loadtxt(\n",
        "                'space.csv',\n",
        "                delimiter=';',\n",
        "                dtype=str,\n",
        "                encoding='utf-8'\n",
        "                )"
      ]
    },
    {
      "cell_type": "code",
      "source": [
        "print(ds)"
      ],
      "metadata": {
        "colab": {
          "base_uri": "https://localhost:8080/"
        },
        "id": "oMxwKX66RsIi",
        "outputId": "f2703bdb-7b78-406b-f71c-38fc82a0a316"
      },
      "execution_count": null,
      "outputs": [
        {
          "output_type": "stream",
          "name": "stdout",
          "text": [
            "[['\\ufeffNum' 'Company Name' 'Location' ... 'Status Rocket' ' Cost'\n",
            "  'Status Mission']\n",
            " ['0' 'SpaceX' 'LC-39A Kennedy Space Center Florida USA' ...\n",
            "  'StatusActive' '50.0 ' 'Success']\n",
            " ['1' 'CASC' 'Site 9401 (SLS-2) Jiuquan Satellite Launch Center China'\n",
            "  ... 'StatusActive' '29.75 ' 'Success']\n",
            " ...\n",
            " ['4321' 'US Navy' 'LC-18A Cape Canaveral AFS Florida USA' ...\n",
            "  'StatusRetired' '0' 'Failure']\n",
            " ['4322' 'RVSN USSR' 'Site 1/5 Baikonur Cosmodrome Kazakhstan' ...\n",
            "  'StatusRetired' '0' 'Success']\n",
            " ['4323' 'RVSN USSR' 'Site 1/5 Baikonur Cosmodrome Kazakhstan' ...\n",
            "  'StatusRetired' '0' 'Success']]\n"
          ]
        }
      ]
    },
    {
      "cell_type": "markdown",
      "source": [
        "1) Porcentagem de missoes que deram certo"
      ],
      "metadata": {
        "id": "R45tzAYaUjEp"
      }
    },
    {
      "cell_type": "code",
      "source": [
        "ds_status = ds[1:, 7]\n",
        "success_rate = ((np.sum(ds_status == \"Success\") / 4324) * 100)"
      ],
      "metadata": {
        "id": "624CvhxZRu0K"
      },
      "execution_count": null,
      "outputs": []
    },
    {
      "cell_type": "code",
      "source": [
        "print(success_rate, \"%\")"
      ],
      "metadata": {
        "colab": {
          "base_uri": "https://localhost:8080/"
        },
        "id": "e0R3D_2STpX7",
        "outputId": "dcd042ca-2220-48c6-a3ca-11112e42e56a"
      },
      "execution_count": null,
      "outputs": [
        {
          "output_type": "stream",
          "name": "stdout",
          "text": [
            "89.70860314523588 %\n"
          ]
        }
      ]
    },
    {
      "cell_type": "markdown",
      "source": [
        "2) Media de gastos de uma missao espacial"
      ],
      "metadata": {
        "id": "7Et7bh-GUsq5"
      }
    },
    {
      "cell_type": "code",
      "source": [
        "ds_costs = ds[1:, 6]\n",
        "ds_costs = ds_costs.astype(float)"
      ],
      "metadata": {
        "id": "vOTXDiOtUr_a"
      },
      "execution_count": null,
      "outputs": []
    },
    {
      "cell_type": "code",
      "source": [
        "print(ds_costs[ds_costs > 0].mean())"
      ],
      "metadata": {
        "colab": {
          "base_uri": "https://localhost:8080/"
        },
        "id": "khrojKUKU5UK",
        "outputId": "89e3c0d9-66f7-4a95-b924-ad8be9081b97"
      },
      "execution_count": null,
      "outputs": [
        {
          "output_type": "stream",
          "name": "stdout",
          "text": [
            "153.7921991701245\n"
          ]
        }
      ]
    },
    {
      "cell_type": "markdown",
      "source": [
        "3) Missoes realizadas pelos EUA"
      ],
      "metadata": {
        "id": "CPliejieWk3S"
      }
    },
    {
      "cell_type": "code",
      "source": [
        "ds_locations = ds[1:, 2]\n",
        "american_missions = np.sum(np.char.find(ds_locations, \"USA\") >= 0)\n",
        "\n",
        "print(american_missions)"
      ],
      "metadata": {
        "colab": {
          "base_uri": "https://localhost:8080/"
        },
        "id": "vMVB0CaUWopK",
        "outputId": "60e71976-4b60-4f4d-d65a-05b400edea0c"
      },
      "execution_count": null,
      "outputs": [
        {
          "output_type": "stream",
          "name": "stdout",
          "text": [
            "1344\n"
          ]
        }
      ]
    },
    {
      "cell_type": "markdown",
      "source": [
        "4) Missao mais cara realizada pela SpaceX"
      ],
      "metadata": {
        "id": "NZmjhZZNY5CK"
      }
    },
    {
      "cell_type": "code",
      "source": [
        "ds_companies = ds[1:, 1]\n",
        "spacex_most_expensive = np.max(ds_costs[ds_companies == \"SpaceX\"])\n",
        "\n",
        "print(spacex_most_expensive)"
      ],
      "metadata": {
        "colab": {
          "base_uri": "https://localhost:8080/"
        },
        "id": "Rm1X7EoCZChy",
        "outputId": "179bd49e-9231-4dd2-b393-c390d373c55d"
      },
      "execution_count": null,
      "outputs": [
        {
          "output_type": "stream",
          "name": "stdout",
          "text": [
            "90.0\n"
          ]
        }
      ]
    },
    {
      "cell_type": "markdown",
      "source": [
        "5) Empresas e suas missoes"
      ],
      "metadata": {
        "id": "fj2bf2lLaNRa"
      }
    },
    {
      "cell_type": "code",
      "source": [
        "companies, missions = np.unique(ds_companies, return_counts=True)\n",
        "\n",
        "# Mostra cada empresa com sua quantidade\n",
        "for name, num in zip(companies, missions):\n",
        "    print(f\"{name}: {num}\")"
      ],
      "metadata": {
        "colab": {
          "base_uri": "https://localhost:8080/"
        },
        "id": "6VntPkKdbuBb",
        "outputId": "9bc19f89-10ae-443e-947b-b76df9cb6d6d"
      },
      "execution_count": null,
      "outputs": [
        {
          "output_type": "stream",
          "name": "stdout",
          "text": [
            "AEB: 3\n",
            "AMBA: 8\n",
            "ASI: 9\n",
            "Arianespace: 279\n",
            "Arm??e de l'Air: 4\n",
            "Blue Origin: 12\n",
            "Boeing: 136\n",
            "CASC: 251\n",
            "CASIC: 5\n",
            "CECLES: 4\n",
            "CNES: 8\n",
            "Douglas: 1\n",
            "EER: 1\n",
            "ESA: 13\n",
            "Eurockot: 13\n",
            "ExPace: 10\n",
            "Exos: 4\n",
            "General Dynamics: 251\n",
            "IAI: 11\n",
            "ILS: 46\n",
            "IRGC: 1\n",
            "ISA: 13\n",
            "ISAS: 30\n",
            "ISRO: 76\n",
            "JAXA: 7\n",
            "KARI: 3\n",
            "KCST: 5\n",
            "Khrunichev: 1\n",
            "Kosmotras: 22\n",
            "Land Launch: 7\n",
            "Landspace: 1\n",
            "Lockheed: 79\n",
            "MHI: 84\n",
            "MITT: 7\n",
            "Martin Marietta: 114\n",
            "NASA: 203\n",
            "Northrop: 83\n",
            "OKB-586: 2\n",
            "OneSpace: 1\n",
            "RAE: 2\n",
            "RVSN USSR: 1777\n",
            "Rocket Lab: 13\n",
            "Roscosmos: 55\n",
            "SRC: 3\n",
            "Sandia: 1\n",
            "Sea Launch: 36\n",
            "SpaceX: 100\n",
            "Starsem: 1\n",
            "ULA: 140\n",
            "US Air Force: 161\n",
            "US Navy: 17\n",
            "UT: 5\n",
            "VKS RF: 201\n",
            "Virgin Orbit: 1\n",
            "Yuzhmash: 2\n",
            "i-Space: 1\n"
          ]
        }
      ]
    }
  ]
}